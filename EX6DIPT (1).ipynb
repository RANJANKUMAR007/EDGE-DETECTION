{
 "cells": [
  {
   "cell_type": "markdown",
   "id": "11d6552a-0831-4af6-b699-ebe09dac8199",
   "metadata": {},
   "source": [
    "# Exp-6- Record-EDGE DETECTION\n",
    "# Name: RANJAN KUMAR G\n",
    "# Reg no.212223240138"
   ]
  },
  {
   "cell_type": "code",
   "execution_count": 1,
   "id": "198e5a5c-dbde-42d3-b258-e730c54c4188",
   "metadata": {},
   "outputs": [
    {
     "ename": "error",
     "evalue": "OpenCV(4.12.0) D:\\a\\opencv-python\\opencv-python\\opencv\\modules\\imgproc\\src\\color.cpp:199: error: (-215:Assertion failed) !_src.empty() in function 'cv::cvtColor'\n",
     "output_type": "error",
     "traceback": [
      "\u001b[31m---------------------------------------------------------------------------\u001b[39m",
      "\u001b[31merror\u001b[39m                                     Traceback (most recent call last)",
      "\u001b[36mCell\u001b[39m\u001b[36m \u001b[39m\u001b[32mIn[1]\u001b[39m\u001b[32m, line 6\u001b[39m\n\u001b[32m      3\u001b[39m \u001b[38;5;28;01mimport\u001b[39;00m\u001b[38;5;250m \u001b[39m\u001b[34;01mmatplotlib\u001b[39;00m\u001b[34;01m.\u001b[39;00m\u001b[34;01mpyplot\u001b[39;00m\u001b[38;5;250m \u001b[39m\u001b[38;5;28;01mas\u001b[39;00m\u001b[38;5;250m \u001b[39m\u001b[34;01mplt\u001b[39;00m\n\u001b[32m      5\u001b[39m image = cv2.imread(\u001b[33m'\u001b[39m\u001b[33mMAX.j\u001b[39m\u001b[33m'\u001b[39m)  \u001b[38;5;66;03m# Replace with your image path\u001b[39;00m\n\u001b[32m----> \u001b[39m\u001b[32m6\u001b[39m gray_image = cv2.cvtColor(image, cv2.COLOR_BGR2GRAY)\n\u001b[32m      7\u001b[39m \u001b[38;5;66;03m# Original Image\u001b[39;00m\n\u001b[32m      8\u001b[39m plt.imshow(cv2.cvtColor(image, cv2.COLOR_BGR2RGB))\n",
      "\u001b[31merror\u001b[39m: OpenCV(4.12.0) D:\\a\\opencv-python\\opencv-python\\opencv\\modules\\imgproc\\src\\color.cpp:199: error: (-215:Assertion failed) !_src.empty() in function 'cv::cvtColor'\n"
     ]
    }
   ],
   "source": [
    "import cv2\n",
    "import numpy as np\n",
    "import matplotlib.pyplot as plt\n",
    "\n",
    "image = cv2.imread('MAX.jP')  # Replace with your image path\n",
    "gray_image = cv2.cvtColor(image, cv2.COLOR_BGR2GRAY)\n",
    "# Original Image\n",
    "plt.imshow(cv2.cvtColor(image, cv2.COLOR_BGR2RGB))\n",
    "plt.title('Original Image')\n",
    "plt.axis('off')"
   ]
  },
  {
   "cell_type": "code",
   "execution_count": null,
   "id": "621cc488-2b59-4822-8762-00e899ec8996",
   "metadata": {},
   "outputs": [],
   "source": [
    "sobel_x = cv2.Sobel(gray_image, cv2.CV_64F, 1, 0, ksize=5)  # Sobel in x direction\n",
    "sobel_y = cv2.Sobel(gray_image, cv2.CV_64F, 0, 1, ksize=5)  # Sobel in y direction\n",
    "sobel_combined = cv2.magnitude(sobel_x, sobel_y)  # Combine both directions\n",
    "plt.imshow(sobel_combined, cmap='gray')\n",
    "plt.title('Sobel Edge Detection')\n",
    "plt.axis('off')"
   ]
  },
  {
   "cell_type": "code",
   "execution_count": 2,
   "id": "e059dc32-87a0-43a4-9c37-8c268feafe21",
   "metadata": {},
   "outputs": [
    {
     "ename": "NameError",
     "evalue": "name 'gray_image' is not defined",
     "output_type": "error",
     "traceback": [
      "\u001b[31m---------------------------------------------------------------------------\u001b[39m",
      "\u001b[31mNameError\u001b[39m                                 Traceback (most recent call last)",
      "\u001b[36mCell\u001b[39m\u001b[36m \u001b[39m\u001b[32mIn[2]\u001b[39m\u001b[32m, line 1\u001b[39m\n\u001b[32m----> \u001b[39m\u001b[32m1\u001b[39m laplacian = cv2.Laplacian(gray_image, cv2.CV_64F)\n\u001b[32m      2\u001b[39m plt.imshow(laplacian, cmap=\u001b[33m'\u001b[39m\u001b[33mgray\u001b[39m\u001b[33m'\u001b[39m)\n\u001b[32m      3\u001b[39m plt.title(\u001b[33m'\u001b[39m\u001b[33mLaplacian Edge Detection\u001b[39m\u001b[33m'\u001b[39m)\n",
      "\u001b[31mNameError\u001b[39m: name 'gray_image' is not defined"
     ]
    }
   ],
   "source": [
    "laplacian = cv2.Laplacian(gray_image, cv2.CV_64F)\n",
    "plt.imshow(laplacian, cmap='gray')\n",
    "plt.title('Laplacian Edge Detection')\n",
    "plt.axis('off')"
   ]
  },
  {
   "cell_type": "code",
   "execution_count": 3,
   "id": "ce5e0620-1a3f-423b-8457-406e5f6dff2a",
   "metadata": {},
   "outputs": [
    {
     "ename": "NameError",
     "evalue": "name 'gray_image' is not defined",
     "output_type": "error",
     "traceback": [
      "\u001b[31m---------------------------------------------------------------------------\u001b[39m",
      "\u001b[31mNameError\u001b[39m                                 Traceback (most recent call last)",
      "\u001b[36mCell\u001b[39m\u001b[36m \u001b[39m\u001b[32mIn[3]\u001b[39m\u001b[32m, line 1\u001b[39m\n\u001b[32m----> \u001b[39m\u001b[32m1\u001b[39m canny_edges = cv2.Canny(gray_image, \u001b[32m50\u001b[39m, \u001b[32m150\u001b[39m)\n\u001b[32m      2\u001b[39m plt.imshow(canny_edges, cmap=\u001b[33m'\u001b[39m\u001b[33mgray\u001b[39m\u001b[33m'\u001b[39m)\n\u001b[32m      3\u001b[39m plt.title(\u001b[33m'\u001b[39m\u001b[33mCanny Edge Detection\u001b[39m\u001b[33m'\u001b[39m)\n",
      "\u001b[31mNameError\u001b[39m: name 'gray_image' is not defined"
     ]
    }
   ],
   "source": [
    "canny_edges = cv2.Canny(gray_image, 50, 150)\n",
    "plt.imshow(canny_edges, cmap='gray')\n",
    "plt.title('Canny Edge Detection')\n",
    "plt.axis('off')  "
   ]
  },
  {
   "cell_type": "code",
   "execution_count": null,
   "id": "ebabfd46-2733-442b-b56f-31b16bb58e76",
   "metadata": {},
   "outputs": [],
   "source": []
  }
 ],
 "metadata": {
  "kernelspec": {
   "display_name": "Python 3 (ipykernel)",
   "language": "python",
   "name": "python3"
  },
  "language_info": {
   "codemirror_mode": {
    "name": "ipython",
    "version": 3
   },
   "file_extension": ".py",
   "mimetype": "text/x-python",
   "name": "python",
   "nbconvert_exporter": "python",
   "pygments_lexer": "ipython3",
   "version": "3.13.5"
  }
 },
 "nbformat": 4,
 "nbformat_minor": 5
}
